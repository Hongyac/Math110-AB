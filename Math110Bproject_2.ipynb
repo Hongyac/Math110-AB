{
 "cells": [
  {
   "cell_type": "code",
   "execution_count": 2,
   "metadata": {},
   "outputs": [
    {
     "name": "stdout",
     "output_type": "stream",
     "text": [
      "[-0.07399131 -0.04632914  0.05310856  0.06767864  0.08060804]\n",
      "[ 0.04439058 -0.04561046 -0.02584237 -0.00734256 -0.00211597]\n"
     ]
    }
   ],
   "source": [
    "# generate a vector of random numbers which obeys the given distribution.\n",
    "#\n",
    "# n: length of the vector\n",
    "# mu: mean value\n",
    "# sigma: standard deviation.\n",
    "# dist: choices for the distribution, you need to implement at least normal \n",
    "#       distribution and uniform distribution.\n",
    "#\n",
    "# For normal distribution, you can use ``numpy.random.normal`` to generate.\n",
    "# For uniform distribution, the interval to sample will be [mu - sigma/sqrt(3), mu + sigma/sqrt(3)].\n",
    "\n",
    "import numpy as np\n",
    "import math\n",
    "import matplotlib.pyplot as plt\n",
    "from numpy.linalg import norm\n",
    "import matplotlib.pyplot as plt\n",
    "\n",
    "def generate_random_numbers(n, mu, sigma, dist):\n",
    "    # write your code here.\n",
    "    if dist == \"normal\":\n",
    "        return np.random.normal(mu, sigma, n)\n",
    "    elif dist == \"uniform\":\n",
    "        # write your code here:\n",
    "        #for i in range(n):\n",
    "        #uniform_RV.append(np.random.uniform(low=mu - sigma/sqrt(3), high=mu + sigma/sqrt(3), size=n))\n",
    "        return np.random.uniform(low=mu - sigma/math.sqrt(3), high=mu + sigma/math.sqrt(3), size=n)\n",
    "    else:\n",
    "        raise Exception(\"The distribution {unknown_dist} is not implemented\".format(unknown_dist=dist))\n",
    "        \n",
    "        \n",
    "# test your code:\n",
    "y_test = generate_random_numbers(5, 0, 0.1, \"normal\")\n",
    "y_test1 = generate_random_numbers(5, 0, 0.1, \"uniform\")\n",
    "print(y_test)\n",
    "print(y_test1)"
   ]
  },
  {
   "cell_type": "code",
   "execution_count": 22,
   "metadata": {},
   "outputs": [
    {
     "name": "stdout",
     "output_type": "stream",
     "text": [
      "0.4451146641778363\n",
      "0.5024400902698376\n"
     ]
    }
   ],
   "source": [
    "y1 = generate_random_numbers(105, 0.5, 1.0, \"normal\")\n",
    "y2 = generate_random_numbers(105, 0.5, 1.0, \"uniform\")\n",
    "print(np.mean(y1))\n",
    "print(np.mean(y2))"
   ]
  },
  {
   "cell_type": "code",
   "execution_count": 26,
   "metadata": {},
   "outputs": [],
   "source": [
    "# IGD, the ordering is permitted to have replacement. \n",
    "#\n",
    "#\n",
    "def IGD_wr_task1(y):\n",
    "    n = len(y)\n",
    "    print(\"n:\",n)\n",
    "    ordering = np.random.choice(n, n, replace=True)\n",
    "    print(\"len(ordering):\",len(ordering))\n",
    "    # print(ordering)\n",
    "    # implement the algorithm's iteration of IGD. Your result should return the the final xk\n",
    "    # at the last iteration and also the history of objective function at each xk.\n",
    "    x = 0\n",
    "    F = []\n",
    "    for k in range(len(ordering)):\n",
    "      f = 1/2 * norm(x - y)**2\n",
    "      F.append(f)\n",
    "      #gema = 1e-3/(k+1)\n",
    "      gema = 1/(k+1)\n",
    "      x = x - gema*(x - y[ordering[k]])\n",
    "      \n",
    "    #print(\"final xk:\",x)\n",
    "    #print(\"history of F:\",F[0])\n",
    "    #print(\"history of F:\",F[-1])\n",
    "    return x, F\n",
    "\n",
    "\n",
    "# IGD, the ordering is not permitted to have replacement.\n",
    "#\n",
    "#\n",
    "def IGD_wo_task1(y):\n",
    "    n = len(y)\n",
    "    ordering = np.random.choice(n, n, replace=False)\n",
    "    # print(ordering)\n",
    "    # implement the algorithm's iteration of IGD. Your result should return the the final xk\n",
    "    # at the last iteration and also the history of objective function at each xk.\n",
    "    x = 0\n",
    "    F = []\n",
    "    for k in range(len(ordering)):\n",
    "      f = 1/2 * norm(x - y)**2\n",
    "      F.append(f)\n",
    "      #gema = 1e-3/(k+1)\n",
    "      gema = 1/(k+1)\n",
    "      x = x - gema*(x - y[ordering[k]])\n",
    "      \n",
    "    #print(\"final xk:\",x)\n",
    "    #print(\"history of F:\",F[0])\n",
    "    return x, F\n",
    "  \n",
    "#IGD_wr_task1(y1)\n",
    "#IGD_wo_task1(y1)\n",
    "#IGD_wr_task1(y2)\n",
    "#IGD_wo_task1(y2)"
   ]
  },
  {
   "cell_type": "code",
   "execution_count": 28,
   "metadata": {},
   "outputs": [
    {
     "name": "stdout",
     "output_type": "stream",
     "text": [
      "n: 105\n",
      "len(ordering): 105\n",
      "xk_wr_y1:= 0.35517462007669615 f_final_wr_y1:= 48.063115741786014\n",
      "xk_wo_y1:= 0.44511466417783613 f_list_wo_y1:= 47.777878791082024\n",
      "0.4451146641778363\n",
      "n: 105\n",
      "len(ordering): 105\n",
      "xk_wr_y2:= 0.4565185003059806 f_final_wr_y2:= 6.1053469522025585\n",
      "xk_wo_y2:= 0.5024400902698375 f_list_wo_y2:= 5.96630846847516\n",
      "0.5024400902698376\n"
     ]
    }
   ],
   "source": [
    "xk_wr_y1, f_list_wr_y1 = IGD_wr_task1(y1)\n",
    "xk_wo_y1, f_list_wo_y1 = IGD_wo_task1(y1)\n",
    "print(\"xk_wr_y1:=\",xk_wr_y1,\"f_final_wr_y1:=\",f_list_wr_y1[-1])\n",
    "print(\"xk_wo_y1:=\",xk_wo_y1,\"f_list_wo_y1:=\",f_list_wo_y1[-1])\n",
    "print(np.mean(y1))\n",
    "xk_wr_y2, f_list_wr_y2 = IGD_wr_task1(y2)\n",
    "xk_wo_y2, f_list_wo_y2 = IGD_wo_task1(y2)\n",
    "print(\"xk_wr_y2:=\",xk_wr_y2,\"f_final_wr_y2:=\",f_list_wr_y2[-1])\n",
    "print(\"xk_wo_y2:=\",xk_wo_y2,\"f_list_wo_y2:=\",f_list_wo_y2[-1])\n",
    "print(np.mean(y2))"
   ]
  },
  {
   "cell_type": "code",
   "execution_count": 29,
   "metadata": {},
   "outputs": [
    {
     "name": "stdout",
     "output_type": "stream",
     "text": [
      "n: 105\n",
      "len(ordering): 105\n"
     ]
    },
    {
     "data": {
      "image/png": "[encoded data removed]",
      "text/plain": [
       "<Figure size 432x288 with 1 Axes>"
      ]
     },
     "metadata": {
      "needs_background": "light"
     },
     "output_type": "display_data"
    }
   ],
   "source": [
    "plt.plot(IGD_wr_task1(y1)[1],color='y')\n",
    "plt.plot(IGD_wo_task1(y1)[1],color='g')\n",
    "plt.show()"
   ]
  },
  {
   "cell_type": "code",
   "execution_count": 30,
   "metadata": {},
   "outputs": [
    {
     "name": "stdout",
     "output_type": "stream",
     "text": [
      "n: 105\n",
      "len(ordering): 105\n"
     ]
    },
    {
     "data": {
      "image/png": "[encoded data removed]",
      "text/plain": [
       "<Figure size 432x288 with 1 Axes>"
      ]
     },
     "metadata": {
      "needs_background": "light"
     },
     "output_type": "display_data"
    }
   ],
   "source": [
    "plt.plot(IGD_wr_task1(y2)[1],color='y')\n",
    "plt.plot(IGD_wo_task1(y2)[1],color='g')\n",
    "plt.show()"
   ]
  },
  {
   "cell_type": "code",
   "execution_count": null,
   "metadata": {},
   "outputs": [],
   "source": [
    "# IGD, the ordering is permitted to have replacement. \n",
    "#\n",
    "#\n",
    "# beta = np.random.uniform(low=1, high=2, size=n)\n",
    "def IGD_wr_task2(y):\n",
    "    n = len(y)\n",
    "    beta = np.random.uniform(low=1, high=2, size=n)\n",
    "    ordering = np.random.choice(n, n, replace=True)\n",
    "    # implement the algorithm's iteration of IGD. Your result should return the the final xk\n",
    "    # at the last iteration and also the history of objective function at each xk.\n",
    "    pass\n",
    "\n",
    "\n",
    "# IGD, the ordering is not permitted to have replacement.\n",
    "#\n",
    "#\n",
    "def IGD_wo_task2(y):\n",
    "    n = len(y)\n",
    "    ordering = np.random.choice(n, n, replace=False)\n",
    "    # implement the algorithm's iteration of IGD. Your result should return the the final xk\n",
    "    # at the last iteration and also the history of objective function at each xk.\n",
    "    pass"
   ]
  },
  {
   "cell_type": "code",
   "execution_count": null,
   "metadata": {},
   "outputs": [],
   "source": []
  }
 ],
 "metadata": {
  "kernelspec": {
   "display_name": "Python 3",
   "language": "python",
   "name": "python3"
  },
  "language_info": {
   "codemirror_mode": {
    "name": "ipython",
    "version": 3
   },
   "file_extension": ".py",
   "mimetype": "text/x-python",
   "name": "python",
   "nbconvert_exporter": "python",
   "pygments_lexer": "ipython3",
   "version": "3.7.1"
  }
 },
 "nbformat": 4,
 "nbformat_minor": 2
}
